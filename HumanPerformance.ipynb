{
 "cells": [
  {
   "cell_type": "code",
   "execution_count": 5,
   "metadata": {},
   "outputs": [],
   "source": [
    "import os\n",
    "import numpy as np\n",
    "import matplotlib.pyplot as plt\n",
    "%matplotlib inline\n",
    "import cv2"
   ]
  },
  {
   "cell_type": "code",
   "execution_count": 6,
   "metadata": {},
   "outputs": [],
   "source": [
    "workdir = \"/Users/joyeuxnoel8/GDrive/Documents/course/CSCI599_DeepLearning/project/datasets/Project\"        \n",
    "os.chdir(workdir)"
   ]
  },
  {
   "cell_type": "code",
   "execution_count": 8,
   "metadata": {},
   "outputs": [],
   "source": [
    "def loaddata(path, seed=9527):\n",
    "    \"\"\"\n",
    "    Usage: there should be ./breast/ and ./prostate/ under the path\n",
    "    \"\"\"\n",
    "    \n",
    "    np.random.seed(seed=seed)\n",
    "    \n",
    "    def image2tensor(tumor, cnv):\n",
    "        train1, train2, train3, testset1, testset2, testset3 = [], [], [], [], [], []\n",
    "        train = [train1, train2, train3] # 3 channels\n",
    "        test = [testset1, testset2, testset3]\n",
    "\n",
    "        rawfnames = !ls ./$tumor/$cnv/*jpg\n",
    "        rawfnames = np.array(np.sort(rawfnames), dtype=object)\n",
    "        \n",
    "        # randomly distribute data to train set and test set in 5:1 ratio\n",
    "        randomIndices = np.random.permutation(rawfnames.shape[0]//3)\n",
    "                \n",
    "        for i, rawf in enumerate(rawfnames):\n",
    "            im = cv2.imread(rawf, 0)\n",
    "            channel = i % 3            \n",
    "            if (randomIndices[i//3]) % 6 == 0:\n",
    "                test[channel].append(im)\n",
    "            else:\n",
    "                train[channel].append(im)\n",
    "                \n",
    "        return np.array(train).transpose([1,2,3,0]), np.array(test).transpose([1,2,3,0])\n",
    "    \n",
    "    tumors = [\"breast\", \"prostate\"]\n",
    "    cnvs = [\"altered\", \"flat\"]\n",
    "    \n",
    "    trainset,  testset = {\"breast\" : {}, \"prostate\" : {}}, {\"breast\" : {}, \"prostate\" : {}}\n",
    "    data = {\"trainset\" : trainset , \"testset\" : testset}\n",
    "    \n",
    "    for tumor in tumors:\n",
    "        for i, cnv in enumerate(cnvs):\n",
    "            if i == 0:\n",
    "                trainset[tumor][\"pos\"], testset[tumor][\"pos\"] = image2tensor(tumor, cnv)\n",
    "            elif i == 1:\n",
    "                trainset[tumor][\"neg\"], testset[tumor][\"neg\"] = image2tensor(tumor, cnv)\n",
    "                \n",
    "    return data"
   ]
  },
  {
   "cell_type": "code",
   "execution_count": 9,
   "metadata": {},
   "outputs": [],
   "source": [
    "data = loaddata(workdir)"
   ]
  },
  {
   "cell_type": "markdown",
   "metadata": {},
   "source": [
    "## Breast cancer"
   ]
  },
  {
   "cell_type": "code",
   "execution_count": 14,
   "metadata": {},
   "outputs": [
    {
     "name": "stdout",
     "output_type": "stream",
     "text": [
      "(189, 225, 225, 3) (189,)\n"
     ]
    }
   ],
   "source": [
    "# testing set\n",
    "x_pos_all = data[\"testset\"][\"breast\"][\"pos\"]\n",
    "x_neg_all = data[\"testset\"][\"breast\"][\"neg\"]\n",
    "\n",
    "x_test = np.concatenate((x_pos_all, x_neg_all)).astype('float32')\n",
    "x_test /= 255\n",
    "y_test = np.concatenate((np.ones(x_pos_all.shape[0]), np.zeros(x_neg_all.shape[0])))\n",
    "\n",
    "print(x_test.shape, y_test.shape)"
   ]
  },
  {
   "cell_type": "code",
   "execution_count": null,
   "metadata": {},
   "outputs": [],
   "source": [
    "# np.random.seed(seed=5408)\n",
    "\n",
    "breastans = np.zeros(x_test.shape[0], dtype=int) - 1\n",
    "channelorder = np.array([1,0,2])\n",
    "randind = np.random.permutation(x_test.shape[0])\n",
    "\n",
    "for i in randind:\n",
    "    fig, (ax1,ax2,ax3,ax4) = plt.subplots(1,4, figsize=(12,3))\n",
    "    ax1.imshow(x_test[i,:,:,1], cmap='gray') # red\n",
    "    ax1.set_title(\"ck\")\n",
    "    ax1.axis('off')\n",
    "    ax2.imshow(x_test[i,:,:,0], cmap='gray') # green\n",
    "    ax2.set_title(\"cd45\")\n",
    "    ax2.axis('off')\n",
    "    ax3.imshow(x_test[i,:,:,2], cmap='gray') # blue\n",
    "    ax3.set_title(\"dapi\")\n",
    "    ax3.axis('off')\n",
    "    ax4.imshow(x_test[i,:,:,channelorder].transpose([1,2,0]), cmap='gray')\n",
    "    ax4.set_title(\"merged\")\n",
    "    ax4.axis('off')\n",
    "\n",
    "    plt.show()\n",
    "    plt.close()\n",
    "\n",
    "    tmp = -1\n",
    "    while tmp not in [0, 1]:\n",
    "        try:\n",
    "            tmp = int(input(\"please input your answer as 1 or 0: \"))\n",
    "        except:\n",
    "            print(\"please input 1 or 0\")\n",
    "    breastans[i] = int(tmp)\n",
    "\n",
    "np.set_printoptions(edgeitems=200)\n",
    "print(breastans)"
   ]
  },
  {
   "cell_type": "code",
   "execution_count": 17,
   "metadata": {},
   "outputs": [
    {
     "name": "stdout",
     "output_type": "stream",
     "text": [
      "breast human accuracy: 0.015873015873015872\n"
     ]
    }
   ],
   "source": [
    "print(\"breast human accuracy: {}\".format(np.sum(breastans == y_test)/y_test.shape[0]))"
   ]
  },
  {
   "cell_type": "markdown",
   "metadata": {},
   "source": [
    "## prostate cancer"
   ]
  },
  {
   "cell_type": "code",
   "execution_count": 12,
   "metadata": {},
   "outputs": [
    {
     "name": "stdout",
     "output_type": "stream",
     "text": [
      "(123, 225, 225, 3) (123,)\n"
     ]
    }
   ],
   "source": [
    "# testing set\n",
    "x_pos_all = data[\"testset\"][\"prostate\"][\"pos\"]\n",
    "x_neg_all = data[\"testset\"][\"prostate\"][\"neg\"]\n",
    "\n",
    "x_test = np.concatenate((x_pos_all, x_neg_all)).astype('float32')\n",
    "x_test /= 255\n",
    "y_test = np.concatenate((np.ones(x_pos_all.shape[0]), np.zeros(x_neg_all.shape[0])))\n",
    "\n",
    "print(x_test.shape, y_test.shape)"
   ]
  },
  {
   "cell_type": "code",
   "execution_count": null,
   "metadata": {},
   "outputs": [],
   "source": [
    "# np.random.seed(seed=5408)\n",
    "\n",
    "prostateans = np.zeros(x_test.shape[0], dtype=int) - 1\n",
    "channelorder = np.array([1,0,2])\n",
    "randind = np.random.permutation(x_test.shape[0])\n",
    "\n",
    "for i in randind:\n",
    "    fig, (ax1,ax2,ax3,ax4) = plt.subplots(1,4, figsize=(12,3))\n",
    "    ax1.imshow(x_test[i,:,:,1], cmap='gray') # red\n",
    "    ax1.set_title(\"ck\")\n",
    "    ax1.axis('off')\n",
    "    ax2.imshow(x_test[i,:,:,0], cmap='gray') # green\n",
    "    ax2.set_title(\"cd45\")\n",
    "    ax2.axis('off')\n",
    "    ax3.imshow(x_test[i,:,:,2], cmap='gray') # blue\n",
    "    ax3.set_title(\"dapi\")\n",
    "    ax3.axis('off')\n",
    "    ax4.imshow(x_test[i,:,:,channelorder].transpose([1,2,0]), cmap='gray')\n",
    "    ax4.set_title(\"merged\")\n",
    "    ax4.axis('off')\n",
    "\n",
    "    plt.show()\n",
    "    plt.close()\n",
    "\n",
    "    tmp = -1\n",
    "    while tmp not in [0, 1]:\n",
    "        try:\n",
    "            tmp = int(input(\"please input your answer as 1 or 0: \"))\n",
    "        except:\n",
    "            print(\"please input 1 or 0\")\n",
    "    prostateans[i] = int(tmp)\n",
    "\n",
    "np.set_printoptions(edgeitems=200)\n",
    "print(prostateans)"
   ]
  },
  {
   "cell_type": "code",
   "execution_count": null,
   "metadata": {},
   "outputs": [],
   "source": [
    "print(\"prostate human accuracy: {}\".format(np.sum(prostateans == y_test)/y_test.shape[0]))"
   ]
  }
 ],
 "metadata": {
  "kernelspec": {
   "display_name": "DL",
   "language": "python",
   "name": "dl"
  },
  "language_info": {
   "codemirror_mode": {
    "name": "ipython",
    "version": 3
   },
   "file_extension": ".py",
   "mimetype": "text/x-python",
   "name": "python",
   "nbconvert_exporter": "python",
   "pygments_lexer": "ipython3",
   "version": "3.6.8"
  }
 },
 "nbformat": 4,
 "nbformat_minor": 2
}
